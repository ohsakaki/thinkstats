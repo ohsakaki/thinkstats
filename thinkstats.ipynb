{
 "cells": [
  {
   "cell_type": "markdown",
   "metadata": {},
   "source": [
    "### 演習問題１−１\n",
    "* コストかけたくない\n",
    "*　その時代によって傾向を掴みたい\n",
    "*　同じ人を調査するより、多くの人を調査したい（多くのデータを集めたい）"
   ]
  },
  {
   "cell_type": "code",
   "execution_count": 3,
   "metadata": {
    "collapsed": true
   },
   "outputs": [],
   "source": [
    "import pandas as pd\n",
    "import os"
   ]
  },
  {
   "cell_type": "code",
   "execution_count": 4,
   "metadata": {
    "collapsed": false
   },
   "outputs": [],
   "source": [
    "os.chdir('/Users/rihosakakibara/Downloads/NSFG')"
   ]
  },
  {
   "cell_type": "markdown",
   "metadata": {},
   "source": [
    "## 演習問題1-2"
   ]
  },
  {
   "cell_type": "code",
   "execution_count": 15,
   "metadata": {
    "collapsed": false,
    "scrolled": true
   },
   "outputs": [
    {
     "ename": "OSError",
     "evalue": "File b'2002FemPreg.dat' does not exist",
     "output_type": "error",
     "traceback": [
      "\u001b[0;31m---------------------------------------------------------------------------\u001b[0m",
      "\u001b[0;31mOSError\u001b[0m                                   Traceback (most recent call last)",
      "\u001b[0;32m<ipython-input-15-05f691329c7f>\u001b[0m in \u001b[0;36m<module>\u001b[0;34m()\u001b[0m\n\u001b[1;32m      1\u001b[0m \u001b[0;31m#pd.read_csv( '2002FemPreg.dat', delim_whitespace=True )\u001b[0m\u001b[0;34m\u001b[0m\u001b[0;34m\u001b[0m\u001b[0m\n\u001b[0;32m----> 2\u001b[0;31m \u001b[0mpd\u001b[0m\u001b[0;34m.\u001b[0m\u001b[0mread_csv\u001b[0m\u001b[0;34m(\u001b[0m \u001b[0;34m'2002FemPreg.dat'\u001b[0m\u001b[0;34m,\u001b[0m \u001b[0mdelimiter\u001b[0m\u001b[0;34m=\u001b[0m\u001b[0;34m'\\t'\u001b[0m \u001b[0;34m)\u001b[0m\u001b[0;34m\u001b[0m\u001b[0m\n\u001b[0m",
      "\u001b[0;32m//anaconda/lib/python3.5/site-packages/pandas/io/parsers.py\u001b[0m in \u001b[0;36mparser_f\u001b[0;34m(filepath_or_buffer, sep, delimiter, header, names, index_col, usecols, squeeze, prefix, mangle_dupe_cols, dtype, engine, converters, true_values, false_values, skipinitialspace, skiprows, skipfooter, nrows, na_values, keep_default_na, na_filter, verbose, skip_blank_lines, parse_dates, infer_datetime_format, keep_date_col, date_parser, dayfirst, iterator, chunksize, compression, thousands, decimal, lineterminator, quotechar, quoting, escapechar, comment, encoding, dialect, tupleize_cols, error_bad_lines, warn_bad_lines, skip_footer, doublequote, delim_whitespace, as_recarray, compact_ints, use_unsigned, low_memory, buffer_lines, memory_map, float_precision)\u001b[0m\n\u001b[1;32m    527\u001b[0m                     skip_blank_lines=skip_blank_lines)\n\u001b[1;32m    528\u001b[0m \u001b[0;34m\u001b[0m\u001b[0m\n\u001b[0;32m--> 529\u001b[0;31m         \u001b[0;32mreturn\u001b[0m \u001b[0m_read\u001b[0m\u001b[0;34m(\u001b[0m\u001b[0mfilepath_or_buffer\u001b[0m\u001b[0;34m,\u001b[0m \u001b[0mkwds\u001b[0m\u001b[0;34m)\u001b[0m\u001b[0;34m\u001b[0m\u001b[0m\n\u001b[0m\u001b[1;32m    530\u001b[0m \u001b[0;34m\u001b[0m\u001b[0m\n\u001b[1;32m    531\u001b[0m     \u001b[0mparser_f\u001b[0m\u001b[0;34m.\u001b[0m\u001b[0m__name__\u001b[0m \u001b[0;34m=\u001b[0m \u001b[0mname\u001b[0m\u001b[0;34m\u001b[0m\u001b[0m\n",
      "\u001b[0;32m//anaconda/lib/python3.5/site-packages/pandas/io/parsers.py\u001b[0m in \u001b[0;36m_read\u001b[0;34m(filepath_or_buffer, kwds)\u001b[0m\n\u001b[1;32m    293\u001b[0m \u001b[0;34m\u001b[0m\u001b[0m\n\u001b[1;32m    294\u001b[0m     \u001b[0;31m# Create the parser.\u001b[0m\u001b[0;34m\u001b[0m\u001b[0;34m\u001b[0m\u001b[0m\n\u001b[0;32m--> 295\u001b[0;31m     \u001b[0mparser\u001b[0m \u001b[0;34m=\u001b[0m \u001b[0mTextFileReader\u001b[0m\u001b[0;34m(\u001b[0m\u001b[0mfilepath_or_buffer\u001b[0m\u001b[0;34m,\u001b[0m \u001b[0;34m**\u001b[0m\u001b[0mkwds\u001b[0m\u001b[0;34m)\u001b[0m\u001b[0;34m\u001b[0m\u001b[0m\n\u001b[0m\u001b[1;32m    296\u001b[0m \u001b[0;34m\u001b[0m\u001b[0m\n\u001b[1;32m    297\u001b[0m     \u001b[0;32mif\u001b[0m \u001b[0;34m(\u001b[0m\u001b[0mnrows\u001b[0m \u001b[0;32mis\u001b[0m \u001b[0;32mnot\u001b[0m \u001b[0;32mNone\u001b[0m\u001b[0;34m)\u001b[0m \u001b[0;32mand\u001b[0m \u001b[0;34m(\u001b[0m\u001b[0mchunksize\u001b[0m \u001b[0;32mis\u001b[0m \u001b[0;32mnot\u001b[0m \u001b[0;32mNone\u001b[0m\u001b[0;34m)\u001b[0m\u001b[0;34m:\u001b[0m\u001b[0;34m\u001b[0m\u001b[0m\n",
      "\u001b[0;32m//anaconda/lib/python3.5/site-packages/pandas/io/parsers.py\u001b[0m in \u001b[0;36m__init__\u001b[0;34m(self, f, engine, **kwds)\u001b[0m\n\u001b[1;32m    610\u001b[0m             \u001b[0mself\u001b[0m\u001b[0;34m.\u001b[0m\u001b[0moptions\u001b[0m\u001b[0;34m[\u001b[0m\u001b[0;34m'has_index_names'\u001b[0m\u001b[0;34m]\u001b[0m \u001b[0;34m=\u001b[0m \u001b[0mkwds\u001b[0m\u001b[0;34m[\u001b[0m\u001b[0;34m'has_index_names'\u001b[0m\u001b[0;34m]\u001b[0m\u001b[0;34m\u001b[0m\u001b[0m\n\u001b[1;32m    611\u001b[0m \u001b[0;34m\u001b[0m\u001b[0m\n\u001b[0;32m--> 612\u001b[0;31m         \u001b[0mself\u001b[0m\u001b[0;34m.\u001b[0m\u001b[0m_make_engine\u001b[0m\u001b[0;34m(\u001b[0m\u001b[0mself\u001b[0m\u001b[0;34m.\u001b[0m\u001b[0mengine\u001b[0m\u001b[0;34m)\u001b[0m\u001b[0;34m\u001b[0m\u001b[0m\n\u001b[0m\u001b[1;32m    613\u001b[0m \u001b[0;34m\u001b[0m\u001b[0m\n\u001b[1;32m    614\u001b[0m     \u001b[0;32mdef\u001b[0m \u001b[0m_get_options_with_defaults\u001b[0m\u001b[0;34m(\u001b[0m\u001b[0mself\u001b[0m\u001b[0;34m,\u001b[0m \u001b[0mengine\u001b[0m\u001b[0;34m)\u001b[0m\u001b[0;34m:\u001b[0m\u001b[0;34m\u001b[0m\u001b[0m\n",
      "\u001b[0;32m//anaconda/lib/python3.5/site-packages/pandas/io/parsers.py\u001b[0m in \u001b[0;36m_make_engine\u001b[0;34m(self, engine)\u001b[0m\n\u001b[1;32m    745\u001b[0m     \u001b[0;32mdef\u001b[0m \u001b[0m_make_engine\u001b[0m\u001b[0;34m(\u001b[0m\u001b[0mself\u001b[0m\u001b[0;34m,\u001b[0m \u001b[0mengine\u001b[0m\u001b[0;34m=\u001b[0m\u001b[0;34m'c'\u001b[0m\u001b[0;34m)\u001b[0m\u001b[0;34m:\u001b[0m\u001b[0;34m\u001b[0m\u001b[0m\n\u001b[1;32m    746\u001b[0m         \u001b[0;32mif\u001b[0m \u001b[0mengine\u001b[0m \u001b[0;34m==\u001b[0m \u001b[0;34m'c'\u001b[0m\u001b[0;34m:\u001b[0m\u001b[0;34m\u001b[0m\u001b[0m\n\u001b[0;32m--> 747\u001b[0;31m             \u001b[0mself\u001b[0m\u001b[0;34m.\u001b[0m\u001b[0m_engine\u001b[0m \u001b[0;34m=\u001b[0m \u001b[0mCParserWrapper\u001b[0m\u001b[0;34m(\u001b[0m\u001b[0mself\u001b[0m\u001b[0;34m.\u001b[0m\u001b[0mf\u001b[0m\u001b[0;34m,\u001b[0m \u001b[0;34m**\u001b[0m\u001b[0mself\u001b[0m\u001b[0;34m.\u001b[0m\u001b[0moptions\u001b[0m\u001b[0;34m)\u001b[0m\u001b[0;34m\u001b[0m\u001b[0m\n\u001b[0m\u001b[1;32m    748\u001b[0m         \u001b[0;32melse\u001b[0m\u001b[0;34m:\u001b[0m\u001b[0;34m\u001b[0m\u001b[0m\n\u001b[1;32m    749\u001b[0m             \u001b[0;32mif\u001b[0m \u001b[0mengine\u001b[0m \u001b[0;34m==\u001b[0m \u001b[0;34m'python'\u001b[0m\u001b[0;34m:\u001b[0m\u001b[0;34m\u001b[0m\u001b[0m\n",
      "\u001b[0;32m//anaconda/lib/python3.5/site-packages/pandas/io/parsers.py\u001b[0m in \u001b[0;36m__init__\u001b[0;34m(self, src, **kwds)\u001b[0m\n\u001b[1;32m   1117\u001b[0m         \u001b[0mkwds\u001b[0m\u001b[0;34m[\u001b[0m\u001b[0;34m'allow_leading_cols'\u001b[0m\u001b[0;34m]\u001b[0m \u001b[0;34m=\u001b[0m \u001b[0mself\u001b[0m\u001b[0;34m.\u001b[0m\u001b[0mindex_col\u001b[0m \u001b[0;32mis\u001b[0m \u001b[0;32mnot\u001b[0m \u001b[0;32mFalse\u001b[0m\u001b[0;34m\u001b[0m\u001b[0m\n\u001b[1;32m   1118\u001b[0m \u001b[0;34m\u001b[0m\u001b[0m\n\u001b[0;32m-> 1119\u001b[0;31m         \u001b[0mself\u001b[0m\u001b[0;34m.\u001b[0m\u001b[0m_reader\u001b[0m \u001b[0;34m=\u001b[0m \u001b[0m_parser\u001b[0m\u001b[0;34m.\u001b[0m\u001b[0mTextReader\u001b[0m\u001b[0;34m(\u001b[0m\u001b[0msrc\u001b[0m\u001b[0;34m,\u001b[0m \u001b[0;34m**\u001b[0m\u001b[0mkwds\u001b[0m\u001b[0;34m)\u001b[0m\u001b[0;34m\u001b[0m\u001b[0m\n\u001b[0m\u001b[1;32m   1120\u001b[0m \u001b[0;34m\u001b[0m\u001b[0m\n\u001b[1;32m   1121\u001b[0m         \u001b[0;31m# XXX\u001b[0m\u001b[0;34m\u001b[0m\u001b[0;34m\u001b[0m\u001b[0m\n",
      "\u001b[0;32mpandas/parser.pyx\u001b[0m in \u001b[0;36mpandas.parser.TextReader.__cinit__ (pandas/parser.c:3246)\u001b[0;34m()\u001b[0m\n",
      "\u001b[0;32mpandas/parser.pyx\u001b[0m in \u001b[0;36mpandas.parser.TextReader._setup_parser_source (pandas/parser.c:6111)\u001b[0;34m()\u001b[0m\n",
      "\u001b[0;31mOSError\u001b[0m: File b'2002FemPreg.dat' does not exist"
     ]
    }
   ],
   "source": [
    "#pd.read_csv( '2002FemPreg.dat', delim_whitespace=True )\n",
    "pd.read_csv( '2002FemPreg.dat', delimiter='\\t' )"
   ]
  },
  {
   "cell_type": "code",
   "execution_count": 5,
   "metadata": {
    "collapsed": false
   },
   "outputs": [
    {
     "name": "stdout",
     "output_type": "stream",
     "text": [
      "Number of respondents 7643\n",
      "Number of pregnancies 13593\n"
     ]
    }
   ],
   "source": [
    "\"\"\"This file contains code for use with \"Think Stats\",\n",
    "by Allen B. Downey, available from greenteapress.com\n",
    "\n",
    "Copyright 2010 Allen B. Downey\n",
    "License: GNU GPLv3 http://www.gnu.org/licenses/gpl.html\n",
    "\"\"\"\n",
    "\n",
    "import sys\n",
    "import gzip\n",
    "import os\n",
    "\n",
    "class Record(object):\n",
    "    \"\"\"Represents a record.\"\"\"\n",
    "\n",
    "class Respondent(Record): \n",
    "    \"\"\"Represents a respondent.\"\"\"\n",
    "\n",
    "class Pregnancy(Record):\n",
    "    \"\"\"Represents a pregnancy.\"\"\"\n",
    "\n",
    "class Table(object):\n",
    "    \"\"\"Represents a table as a list of objects\"\"\"\n",
    "\n",
    "    def __init__(self):\n",
    "        self.records = []\n",
    "        \n",
    "    def __len__(self):\n",
    "        return len(self.records)\n",
    "\n",
    "    def ReadFile(self, data_dir, filename, fields, constructor, n=None):\n",
    "        \"\"\"Reads a compressed data file builds one object per record.\n",
    "\n",
    "        Args:\n",
    "            data_dir: string directory name\n",
    "            filename: string name of the file to read\n",
    "\n",
    "            fields: sequence of (name, start, end, case) tuples specifying \n",
    "            the fields to extract\n",
    "\n",
    "            constructor: what kind of object to create\n",
    "        \"\"\"\n",
    "        filename = os.path.join(data_dir, filename)\n",
    "\n",
    "        if filename.endswith('gz'):\n",
    "            fp = gzip.open(filename)\n",
    "        else:\n",
    "            fp = open(filename)\n",
    "\n",
    "        for i, line in enumerate(fp):\n",
    "            if i == n:\n",
    "                break\n",
    "            record = self.MakeRecord(line, fields, constructor)\n",
    "            self.AddRecord(record)\n",
    "        fp.close()\n",
    "\n",
    "    def MakeRecord(self, line, fields, constructor):\n",
    "        \"\"\"Scans a line and returns an object with the appropriate fields.\n",
    "\n",
    "        Args:\n",
    "            line: string line from a data file\n",
    "\n",
    "            fields: sequence of (name, start, end, cast) tuples specifying \n",
    "            the fields to extract\n",
    "\n",
    "            constructor: callable that makes an object for the record.\n",
    "\n",
    "        Returns:\n",
    "            Record with appropriate fields.\n",
    "        \"\"\"\n",
    "        obj = constructor()\n",
    "        for (field, start, end, cast) in fields:\n",
    "            try:\n",
    "                s = line[start-1:end]\n",
    "                val = cast(s)\n",
    "            except ValueError:\n",
    "                # If you are using Visual Studio, you might see an\n",
    "                # \"error\" at this point, but it is not really an error;\n",
    "                # I am just using try...except to handle not-available (NA)\n",
    "                # data.  You should be able to tell Visual Studio to\n",
    "                # ignore this non-error.\n",
    "                val = 'NA'\n",
    "            setattr(obj, field, val)\n",
    "        return obj\n",
    "\n",
    "    def AddRecord(self, record):\n",
    "        \"\"\"Adds a record to this table.\n",
    "\n",
    "        Args:\n",
    "            record: an object of one of the record types.\n",
    "        \"\"\"\n",
    "        self.records.append(record)\n",
    "\n",
    "    def ExtendRecords(self, records):\n",
    "        \"\"\"Adds records to this table.\n",
    "\n",
    "        Args:\n",
    "            records: a sequence of record object\n",
    "        \"\"\"\n",
    "        self.records.extend(records)\n",
    "\n",
    "    def Recode(self):\n",
    "        \"\"\"Child classes can override this to recode values.\"\"\"\n",
    "        pass\n",
    "\n",
    "\n",
    "class Respondents(Table):\n",
    "    \"\"\"Represents the respondent table.\"\"\"\n",
    "\n",
    "    def ReadRecords(self, data_dir='.', n=None):\n",
    "        filename = self.GetFilename()\n",
    "        self.ReadFile(data_dir, filename, self.GetFields(), Respondent, n)\n",
    "        self.Recode()\n",
    "\n",
    "    def GetFilename(self):\n",
    "        return '2002FemResp.dat.gz'\n",
    "\n",
    "    def GetFields(self):\n",
    "        \"\"\"Returns a tuple specifying the fields to extract.\n",
    "\n",
    "        The elements of the tuple are field, start, end, case.\n",
    "\n",
    "                field is the name of the variable\n",
    "                start and end are the indices as specified in the NSFG docs\n",
    "                cast is a callable that converts the result to int, float, etc.\n",
    "        \"\"\"\n",
    "        return [\n",
    "            ('caseid', 1, 12, int),\n",
    "            ]\n",
    "\n",
    "class Pregnancies(Table):\n",
    "    \"\"\"Contains survey data about a Pregnancy.\"\"\"\n",
    "\n",
    "    def ReadRecords(self, data_dir='.', n=None):\n",
    "        filename = self.GetFilename()\n",
    "        self.ReadFile(data_dir, filename, self.GetFields(), Pregnancy, n)\n",
    "        self.Recode()\n",
    "\n",
    "    def GetFilename(self):\n",
    "        return '2002FemPreg.dat.gz'\n",
    "\n",
    "    def GetFields(self):\n",
    "        \"\"\"Gets information about the fields to extract from the survey data.\n",
    "\n",
    "        Documentation of the fields for Cycle 6 is at\n",
    "        http://nsfg.icpsr.umich.edu/cocoon/WebDocs/NSFG/public/index.htm\n",
    "\n",
    "        Returns:\n",
    "            sequence of (name, start, end, type) tuples\n",
    "        \"\"\"\n",
    "        return [\n",
    "            ('caseid', 1, 12, int),\n",
    "            ('nbrnaliv', 22, 22, int),\n",
    "            ('babysex', 56, 56, int),\n",
    "            ('birthwgt_lb', 57, 58, int),\n",
    "            ('birthwgt_oz', 59, 60, int),\n",
    "            ('prglength', 275, 276, int),\n",
    "            ('outcome', 277, 277, int),\n",
    "            ('birthord', 278, 279, int),\n",
    "            ('agepreg', 284, 287, int),\n",
    "            ('finalwgt', 423, 440, float),\n",
    "            ]\n",
    "\n",
    "    def Recode(self):\n",
    "        for rec in self.records:\n",
    "\n",
    "            # divide mother's age by 100\n",
    "            try:\n",
    "                if rec.agepreg != 'NA':\n",
    "                    rec.agepreg /= 100.0\n",
    "            except AttributeError:\n",
    "                pass\n",
    "\n",
    "            # convert weight at birth from lbs/oz to total ounces\n",
    "            # note: there are some very low birthweights\n",
    "            # that are almost certainly errors, but for now I am not\n",
    "            # filtering\n",
    "            try:\n",
    "                if (rec.birthwgt_lb != 'NA' and rec.birthwgt_lb < 20 and\n",
    "                    rec.birthwgt_oz != 'NA' and rec.birthwgt_oz <= 16):\n",
    "                    rec.totalwgt_oz = rec.birthwgt_lb * 16 + rec.birthwgt_oz\n",
    "                else:\n",
    "                    rec.totalwgt_oz = 'NA'\n",
    "            except AttributeError:\n",
    "                pass\n",
    "\n",
    "\n",
    "def main(name, data_dir='.'):\n",
    "    resp = Respondents()\n",
    "    resp.ReadRecords(data_dir)\n",
    "    print ('Number of respondents', len(resp.records))\n",
    "\n",
    "    preg = Pregnancies()\n",
    "    preg.ReadRecords(data_dir)\n",
    "    print ('Number of pregnancies', len(preg.records))\n",
    "\n",
    "    \n",
    "if __name__ == '__main__':\n",
    "    main(sys.argv)\n"
   ]
  },
  {
   "cell_type": "markdown",
   "metadata": {},
   "source": [
    "## 演習問題1-3"
   ]
  },
  {
   "cell_type": "markdown",
   "metadata": {},
   "source": [
    "### 演習1-3-1"
   ]
  },
  {
   "cell_type": "code",
   "execution_count": 55,
   "metadata": {
    "collapsed": false
   },
   "outputs": [
    {
     "name": "stdout",
     "output_type": "stream",
     "text": [
      " 妊娠レコードの総数:  13593\n"
     ]
    }
   ],
   "source": [
    "# -*- coding: utf-8 -*-\n",
    "import survey\n",
    "table = survey.Pregnancies()\n",
    "table.ReadRecords()\n",
    "print (' 妊娠レコードの総数: ', len(table.records))"
   ]
  },
  {
   "cell_type": "markdown",
   "metadata": {},
   "source": [
    "### 演習1-3-2"
   ]
  },
  {
   "cell_type": "code",
   "execution_count": 60,
   "metadata": {
    "collapsed": false
   },
   "outputs": [
    {
     "name": "stdout",
     "output_type": "stream",
     "text": [
      "出生数: 9148\n"
     ]
    }
   ],
   "source": [
    "table = survey.Pregnancies()\n",
    "table.ReadRecords()\n",
    "outcome_num = 0\n",
    "for data in table.records:\n",
    "    if data.outcome == 1:\n",
    "        outcome_num += 1\n",
    "print('出生数:',outcome_num)"
   ]
  },
  {
   "cell_type": "markdown",
   "metadata": {},
   "source": [
    "### 演習1-3-3"
   ]
  },
  {
   "cell_type": "code",
   "execution_count": 31,
   "metadata": {
    "collapsed": false,
    "scrolled": true
   },
   "outputs": [
    {
     "name": "stdout",
     "output_type": "stream",
     "text": [
      "4413\n",
      "9180\n"
     ]
    }
   ],
   "source": [
    "#できない\n",
    "table = survey.Pregnancies()\n",
    "table.ReadRecords()\n",
    "first = 0\n",
    "others = 0\n",
    "for data in table.records:\n",
    "    if data.birthord == 1:\n",
    "        first += 1\n",
    "    elif data.outcome == '':\n",
    "        pass\n",
    "    else:\n",
    "        others += 1\n",
    "print(first)\n",
    "print(others)"
   ]
  },
  {
   "cell_type": "code",
   "execution_count": 58,
   "metadata": {
    "collapsed": false,
    "scrolled": true
   },
   "outputs": [
    {
     "name": "stdout",
     "output_type": "stream",
     "text": [
      " 第一子:  4413\n",
      "第二子以降:  4735\n"
     ]
    }
   ],
   "source": [
    "table = survey.Pregnancies()\n",
    "table.ReadRecords()\n",
    "\n",
    "first = 0\n",
    "others = 0\n",
    "\n",
    "for data in table.records:\n",
    "    if data.outcome == 1:\n",
    "        if data.birthord == 1:\n",
    "            first += 1\n",
    "        else:\n",
    "            others += 1\n",
    "print (' 第一子: ', (first))\n",
    "print ('第二子以降: ', (others))"
   ]
  },
  {
   "cell_type": "markdown",
   "metadata": {},
   "source": [
    "### 演習1-3-4"
   ]
  },
  {
   "cell_type": "code",
   "execution_count": 75,
   "metadata": {
    "collapsed": false,
    "scrolled": false
   },
   "outputs": [
    {
     "ename": "AttributeError",
     "evalue": "'int' object has no attribute 'mean'",
     "output_type": "error",
     "traceback": [
      "\u001b[0;31m---------------------------------------------------------------------------\u001b[0m",
      "\u001b[0;31mAttributeError\u001b[0m                            Traceback (most recent call last)",
      "\u001b[0;32m<ipython-input-75-8edb5353c2fa>\u001b[0m in \u001b[0;36m<module>\u001b[0;34m()\u001b[0m\n\u001b[1;32m      6\u001b[0m         \u001b[0;32mif\u001b[0m \u001b[0mdata\u001b[0m\u001b[0;34m.\u001b[0m\u001b[0mbirthord\u001b[0m \u001b[0;34m==\u001b[0m \u001b[0;36m1\u001b[0m\u001b[0;34m:\u001b[0m\u001b[0;34m\u001b[0m\u001b[0m\n\u001b[1;32m      7\u001b[0m             \u001b[0mprg\u001b[0m \u001b[0;34m+=\u001b[0m \u001b[0mdata\u001b[0m\u001b[0;34m.\u001b[0m\u001b[0mprglength\u001b[0m\u001b[0;34m\u001b[0m\u001b[0m\n\u001b[0;32m----> 8\u001b[0;31m \u001b[0mfloat\u001b[0m\u001b[0;34m(\u001b[0m\u001b[0mprg\u001b[0m\u001b[0;34m.\u001b[0m\u001b[0mmean\u001b[0m\u001b[0;34m(\u001b[0m\u001b[0;34m)\u001b[0m\u001b[0;34m)\u001b[0m\u001b[0;34m\u001b[0m\u001b[0m\n\u001b[0m",
      "\u001b[0;31mAttributeError\u001b[0m: 'int' object has no attribute 'mean'"
     ]
    }
   ],
   "source": [
    "table = survey.Pregnancies()\n",
    "table.ReadRecords()\n",
    "\n",
    "for data in table.records:\n",
    "    if data.outcome == 1:\n",
    "        if data.birthord == 1:\n",
    "            prg += data.prglength\n",
    "float(prg.mean()) #meanできない"
   ]
  },
  {
   "cell_type": "code",
   "execution_count": 74,
   "metadata": {
    "collapsed": false,
    "scrolled": true
   },
   "outputs": [
    {
     "name": "stdout",
     "output_type": "stream",
     "text": [
      " 平均妊娠週（第一子）  38.60095173351461\n",
      " 平均妊娠週（第二子以降）  38.52291446673706\n"
     ]
    }
   ],
   "source": [
    "first = 0\n",
    "others = 0\n",
    " \n",
    "first_prg = 0\n",
    "others_prg = 0\n",
    " \n",
    "for data in table.records:\n",
    "    if data.outcome == 1:\n",
    "        if data.birthord == 1:\n",
    "            first  += 1\n",
    "            first_prg += data.prglength\n",
    "        else:\n",
    "            others += 1\n",
    "            others_prg += data.prglength\n",
    "print (' 平均妊娠週（第一子） ', float(first_prg)/float(first))\n",
    "print (' 平均妊娠週（第二子以降） ', float(others_prg)/float(others))"
   ]
  },
  {
   "cell_type": "code",
   "execution_count": null,
   "metadata": {
    "collapsed": true
   },
   "outputs": [],
   "source": []
  },
  {
   "cell_type": "code",
   "execution_count": null,
   "metadata": {
    "collapsed": true
   },
   "outputs": [],
   "source": []
  }
 ],
 "metadata": {
  "kernelspec": {
   "display_name": "Python 3",
   "language": "python",
   "name": "python3"
  },
  "language_info": {
   "codemirror_mode": {
    "name": "ipython",
    "version": 3
   },
   "file_extension": ".py",
   "mimetype": "text/x-python",
   "name": "python",
   "nbconvert_exporter": "python",
   "pygments_lexer": "ipython3",
   "version": "3.5.1"
  }
 },
 "nbformat": 4,
 "nbformat_minor": 0
}
